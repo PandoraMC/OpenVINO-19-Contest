{
 "cells": [
  {
   "cell_type": "code",
   "execution_count": 1,
   "metadata": {},
   "outputs": [
    {
     "name": "stderr",
     "output_type": "stream",
     "text": [
      "Using TensorFlow backend.\n"
     ]
    }
   ],
   "source": [
    "import numpy as np\n",
    "import keras\n",
    "from keras import backend as K\n",
    "from keras.layers.core import Dense\n",
    "from keras.optimizers import Adam\n",
    "from keras.callbacks import ModelCheckpoint\n",
    "from keras.metrics import categorical_crossentropy\n",
    "from keras.preprocessing.image import ImageDataGenerator\n",
    "from keras.preprocessing import image\n",
    "from keras.applications import imagenet_utils\n",
    "from keras.models import Sequential, Model\n",
    "from sklearn.metrics import confusion_matrix\n",
    "import itertools\n",
    "import matplotlib.pyplot as plt\n",
    "%matplotlib inline\n",
    "namefile = 'Dropout 0'"
   ]
  },
  {
   "cell_type": "code",
   "execution_count": null,
   "metadata": {},
   "outputs": [],
   "source": [
    "def prepare_images(file):\n",
    "    img_path = \"Data/training/LetraA/\"\n",
    "    img = image.load_img(img_path + file, target_size=(224,224))\n",
    "    img_array = image.img_to_array(img)\n",
    "    img_array_expanded_dims = np.expand_dims(img_array, axis= 0)\n",
    "    \n",
    "    return keras.applications.mobilenet.preprocess_input(img_array_expanded_dims)"
   ]
  },
  {
   "cell_type": "markdown",
   "metadata": {},
   "source": [
    "Preparación de las imágenes "
   ]
  },
  {
   "cell_type": "code",
   "execution_count": 3,
   "metadata": {},
   "outputs": [],
   "source": [
    "#Create images generator\n",
    "VAL_DIR=\"Data/validation\"\n",
    "#\"/home/luis/Downloads/fingerspelling5/dataset5/A/\"\n",
    "TRAIN_DIR = \"Data/training\"\n",
    "#\"/home/luis/Downloads/fingerspelling5/dataset5/B/\"\n",
    "#\n",
    "BATCH_SIZE =2"
   ]
  },
  {
   "cell_type": "code",
   "execution_count": 4,
   "metadata": {},
   "outputs": [
    {
     "name": "stdout",
     "output_type": "stream",
     "text": [
      "Found 1277 images belonging to 21 classes.\n",
      "Found 189 images belonging to 21 classes.\n"
     ]
    }
   ],
   "source": [
    "train_batch = ImageDataGenerator(preprocessing_function = keras.applications.mobilenet.preprocess_input,rotation_range=15,rescale=1./255).flow_from_directory(TRAIN_DIR, target_size=(224,224) , batch_size = BATCH_SIZE)\n",
    "val_batch = ImageDataGenerator(preprocessing_function = keras.applications.mobilenet.preprocess_input).flow_from_directory(VAL_DIR, target_size=(224,224), batch_size = BATCH_SIZE)"
   ]
  },
  {
   "cell_type": "code",
   "execution_count": 5,
   "metadata": {},
   "outputs": [
    {
     "name": "stderr",
     "output_type": "stream",
     "text": [
      "WARNING: Logging before flag parsing goes to stderr.\n",
      "W0904 18:58:42.772998 140256330340160 deprecation_wrapper.py:119] From /home/luis/.conda/envs/TF/lib/python3.7/site-packages/keras/backend/tensorflow_backend.py:74: The name tf.get_default_graph is deprecated. Please use tf.compat.v1.get_default_graph instead.\n",
      "\n",
      "W0904 18:58:42.784037 140256330340160 deprecation_wrapper.py:119] From /home/luis/.conda/envs/TF/lib/python3.7/site-packages/keras/backend/tensorflow_backend.py:517: The name tf.placeholder is deprecated. Please use tf.compat.v1.placeholder instead.\n",
      "\n",
      "W0904 18:58:42.787069 140256330340160 deprecation_wrapper.py:119] From /home/luis/.conda/envs/TF/lib/python3.7/site-packages/keras/backend/tensorflow_backend.py:4138: The name tf.random_uniform is deprecated. Please use tf.random.uniform instead.\n",
      "\n",
      "W0904 18:58:42.802974 140256330340160 deprecation_wrapper.py:119] From /home/luis/.conda/envs/TF/lib/python3.7/site-packages/keras/backend/tensorflow_backend.py:174: The name tf.get_default_session is deprecated. Please use tf.compat.v1.get_default_session instead.\n",
      "\n",
      "W0904 18:58:42.803518 140256330340160 deprecation_wrapper.py:119] From /home/luis/.conda/envs/TF/lib/python3.7/site-packages/keras/backend/tensorflow_backend.py:181: The name tf.ConfigProto is deprecated. Please use tf.compat.v1.ConfigProto instead.\n",
      "\n",
      "W0904 18:58:43.301745 140256330340160 deprecation_wrapper.py:119] From /home/luis/.conda/envs/TF/lib/python3.7/site-packages/keras/backend/tensorflow_backend.py:1834: The name tf.nn.fused_batch_norm is deprecated. Please use tf.compat.v1.nn.fused_batch_norm instead.\n",
      "\n",
      "W0904 18:58:44.821134 140256330340160 deprecation.py:506] From /home/luis/.conda/envs/TF/lib/python3.7/site-packages/keras/backend/tensorflow_backend.py:3445: calling dropout (from tensorflow.python.ops.nn_ops) with keep_prob is deprecated and will be removed in a future version.\n",
      "Instructions for updating:\n",
      "Please use `rate` instead of `keep_prob`. Rate should be set to `rate = 1 - keep_prob`.\n"
     ]
    }
   ],
   "source": [
    "mobile = keras.applications.mobilenet.MobileNet()"
   ]
  },
  {
   "cell_type": "code",
   "execution_count": 6,
   "metadata": {},
   "outputs": [],
   "source": [
    "x = mobile.layers[-6].output\n",
    "predictions = Dense(21, activation = 'softmax')(x)\n",
    "model = Model(inputs = mobile.inputs, outputs=predictions)"
   ]
  },
  {
   "cell_type": "code",
   "execution_count": 7,
   "metadata": {},
   "outputs": [],
   "source": [
    "#model.summary()"
   ]
  },
  {
   "cell_type": "code",
   "execution_count": 8,
   "metadata": {},
   "outputs": [],
   "source": [
    "for layer in model.layers[:-5]:\n",
    "    layer.trainable = False"
   ]
  },
  {
   "cell_type": "code",
   "execution_count": 9,
   "metadata": {},
   "outputs": [],
   "source": [
    "def plot_training(history):\n",
    "    acc = history.history['acc']\n",
    "    val_acc = history.history['val_acc']\n",
    "    loss = history.history['loss']\n",
    "    val_loss = history.history['val_loss']\n",
    "    epochs = range(len(acc))\n",
    "\n",
    "    plt.plot(epochs, acc, 'b', label = 'train acc')\n",
    "    plt.plot(epochs, val_acc, 'r', label = 'val acc')\n",
    "    plt.legend(loc='lower right')\n",
    "    plt.title('Training and validation accuracy')\n",
    "\n",
    "    plt.figure()\n",
    "    plt.plot(epochs, loss, 'b', label= 'train loss')\n",
    "    plt.plot(epochs, val_loss, 'r-', label ='val loss')\n",
    "    plt.legend(loc='lower right')\n",
    "    plt.title('Training and validation loss')\n",
    "    plt.show()"
   ]
  },
  {
   "cell_type": "code",
   "execution_count": 10,
   "metadata": {},
   "outputs": [
    {
     "name": "stderr",
     "output_type": "stream",
     "text": [
      "W0904 18:58:49.311595 140256330340160 deprecation_wrapper.py:119] From /home/luis/.conda/envs/TF/lib/python3.7/site-packages/keras/optimizers.py:790: The name tf.train.Optimizer is deprecated. Please use tf.compat.v1.train.Optimizer instead.\n",
      "\n"
     ]
    }
   ],
   "source": [
    "filepath = 'Mobile'+ namefile+'.h5'\n",
    "adam =Adam(lr=0.0001, beta_1=0.9, epsilon=1e-08)\n",
    "model.compile(adam,loss='categorical_crossentropy', metrics=['accuracy'])\n",
    "\n",
    "checkpoint = ModelCheckpoint(filepath, monitor=[\"val_acc\"],  verbose=1,\n",
    "                             mode='max')\n",
    "callbacks_list = [checkpoint]"
   ]
  },
  {
   "cell_type": "code",
   "execution_count": 11,
   "metadata": {},
   "outputs": [
    {
     "name": "stderr",
     "output_type": "stream",
     "text": [
      "W0904 18:58:49.754795 140256330340160 deprecation.py:323] From /home/luis/.conda/envs/TF/lib/python3.7/site-packages/tensorflow/python/ops/math_grad.py:1250: add_dispatch_support.<locals>.wrapper (from tensorflow.python.ops.array_ops) is deprecated and will be removed in a future version.\n",
      "Instructions for updating:\n",
      "Use tf.where in 2.0, which has the same broadcast rule as np.where\n"
     ]
    },
    {
     "name": "stdout",
     "output_type": "stream",
     "text": [
      "Epoch 1/30\n",
      "639/639 [==============================] - 23s 36ms/step - loss: 2.4026 - acc: 0.2833 - val_loss: 2.0539 - val_acc: 0.3333\n",
      "\n",
      "Epoch 00001: saving model to MobileDropout 0.h5\n",
      "Epoch 2/30\n",
      "639/639 [==============================] - 21s 33ms/step - loss: 1.5821 - acc: 0.5532 - val_loss: 1.5776 - val_acc: 0.5661\n",
      "\n",
      "Epoch 00002: saving model to MobileDropout 0.h5\n",
      "Epoch 3/30\n",
      "639/639 [==============================] - 22s 35ms/step - loss: 1.2402 - acc: 0.6729 - val_loss: 1.4277 - val_acc: 0.5556\n",
      "\n",
      "Epoch 00003: saving model to MobileDropout 0.h5\n",
      "Epoch 4/30\n",
      "639/639 [==============================] - 22s 34ms/step - loss: 0.9876 - acc: 0.7308 - val_loss: 1.4093 - val_acc: 0.5397\n",
      "\n",
      "Epoch 00004: saving model to MobileDropout 0.h5\n",
      "Epoch 5/30\n",
      "639/639 [==============================] - 22s 34ms/step - loss: 0.8443 - acc: 0.7856 - val_loss: 1.2086 - val_acc: 0.6296\n",
      "\n",
      "Epoch 00005: saving model to MobileDropout 0.h5\n",
      "Epoch 6/30\n",
      "639/639 [==============================] - 21s 34ms/step - loss: 0.7679 - acc: 0.8028 - val_loss: 1.3671 - val_acc: 0.5767\n",
      "\n",
      "Epoch 00006: saving model to MobileDropout 0.h5\n",
      "Epoch 7/30\n",
      "639/639 [==============================] - 22s 35ms/step - loss: 0.6861 - acc: 0.8224 - val_loss: 1.1556 - val_acc: 0.6561\n",
      "\n",
      "Epoch 00007: saving model to MobileDropout 0.h5\n",
      "Epoch 8/30\n",
      "639/639 [==============================] - 22s 34ms/step - loss: 0.6447 - acc: 0.8232 - val_loss: 1.0794 - val_acc: 0.6402\n",
      "\n",
      "Epoch 00008: saving model to MobileDropout 0.h5\n",
      "Epoch 9/30\n",
      "639/639 [==============================] - 22s 34ms/step - loss: 0.5979 - acc: 0.8568 - val_loss: 1.1258 - val_acc: 0.6455\n",
      "\n",
      "Epoch 00009: saving model to MobileDropout 0.h5\n",
      "Epoch 10/30\n",
      "639/639 [==============================] - 23s 36ms/step - loss: 0.5359 - acc: 0.8748 - val_loss: 1.4851 - val_acc: 0.4868\n",
      "\n",
      "Epoch 00010: saving model to MobileDropout 0.h5\n",
      "Epoch 11/30\n",
      "639/639 [==============================] - 23s 35ms/step - loss: 0.4931 - acc: 0.8881 - val_loss: 1.3289 - val_acc: 0.5926\n",
      "\n",
      "Epoch 00011: saving model to MobileDropout 0.h5\n",
      "Epoch 12/30\n",
      "639/639 [==============================] - 22s 34ms/step - loss: 0.4757 - acc: 0.8850 - val_loss: 1.2596 - val_acc: 0.5503\n",
      "\n",
      "Epoch 00012: saving model to MobileDropout 0.h5\n",
      "Epoch 13/30\n",
      "639/639 [==============================] - 22s 35ms/step - loss: 0.4882 - acc: 0.8865 - val_loss: 1.1251 - val_acc: 0.5926\n",
      "\n",
      "Epoch 00013: saving model to MobileDropout 0.h5\n",
      "Epoch 14/30\n",
      "639/639 [==============================] - 23s 36ms/step - loss: 0.4299 - acc: 0.8889 - val_loss: 1.0886 - val_acc: 0.6614\n",
      "\n",
      "Epoch 00014: saving model to MobileDropout 0.h5\n",
      "Epoch 15/30\n",
      "639/639 [==============================] - 23s 35ms/step - loss: 0.4028 - acc: 0.9030 - val_loss: 1.1657 - val_acc: 0.6243\n",
      "\n",
      "Epoch 00015: saving model to MobileDropout 0.h5\n",
      "Epoch 16/30\n",
      "639/639 [==============================] - 22s 35ms/step - loss: 0.3391 - acc: 0.9249 - val_loss: 1.1222 - val_acc: 0.6825\n",
      "\n",
      "Epoch 00016: saving model to MobileDropout 0.h5\n",
      "Epoch 17/30\n",
      "639/639 [==============================] - 22s 34ms/step - loss: 0.3768 - acc: 0.9038 - val_loss: 1.1401 - val_acc: 0.6508\n",
      "\n",
      "Epoch 00017: saving model to MobileDropout 0.h5\n",
      "Epoch 18/30\n",
      "639/639 [==============================] - 21s 33ms/step - loss: 0.3468 - acc: 0.9264 - val_loss: 0.8835 - val_acc: 0.7566\n",
      "\n",
      "Epoch 00018: saving model to MobileDropout 0.h5\n",
      "Epoch 19/30\n",
      "639/639 [==============================] - 21s 34ms/step - loss: 0.3320 - acc: 0.9249 - val_loss: 1.0539 - val_acc: 0.6772\n",
      "\n",
      "Epoch 00019: saving model to MobileDropout 0.h5\n",
      "Epoch 20/30\n",
      "639/639 [==============================] - 21s 33ms/step - loss: 0.2942 - acc: 0.9335 - val_loss: 0.9840 - val_acc: 0.6878\n",
      "\n",
      "Epoch 00020: saving model to MobileDropout 0.h5\n",
      "Epoch 21/30\n",
      "639/639 [==============================] - 22s 35ms/step - loss: 0.2617 - acc: 0.9468 - val_loss: 0.9986 - val_acc: 0.7143\n",
      "\n",
      "Epoch 00021: saving model to MobileDropout 0.h5\n",
      "Epoch 22/30\n",
      "639/639 [==============================] - 22s 34ms/step - loss: 0.3013 - acc: 0.9186 - val_loss: 0.9875 - val_acc: 0.7354\n",
      "\n",
      "Epoch 00022: saving model to MobileDropout 0.h5\n",
      "Epoch 23/30\n",
      "639/639 [==============================] - 22s 34ms/step - loss: 0.2795 - acc: 0.9335 - val_loss: 0.8686 - val_acc: 0.7725\n",
      "\n",
      "Epoch 00023: saving model to MobileDropout 0.h5\n",
      "Epoch 24/30\n",
      "639/639 [==============================] - 22s 34ms/step - loss: 0.2829 - acc: 0.9366 - val_loss: 1.0752 - val_acc: 0.6561\n",
      "\n",
      "Epoch 00024: saving model to MobileDropout 0.h5\n",
      "Epoch 25/30\n",
      "639/639 [==============================] - 22s 35ms/step - loss: 0.2638 - acc: 0.9437 - val_loss: 0.9338 - val_acc: 0.6931\n",
      "\n",
      "Epoch 00025: saving model to MobileDropout 0.h5\n",
      "Epoch 26/30\n",
      "639/639 [==============================] - 22s 35ms/step - loss: 0.2280 - acc: 0.9476 - val_loss: 0.9279 - val_acc: 0.7143\n",
      "\n",
      "Epoch 00026: saving model to MobileDropout 0.h5\n",
      "Epoch 27/30\n",
      "639/639 [==============================] - 23s 36ms/step - loss: 0.2087 - acc: 0.9617 - val_loss: 0.7573 - val_acc: 0.7831\n",
      "\n",
      "Epoch 00027: saving model to MobileDropout 0.h5\n",
      "Epoch 28/30\n",
      "639/639 [==============================] - 22s 35ms/step - loss: 0.2109 - acc: 0.9484 - val_loss: 0.8955 - val_acc: 0.7302\n",
      "\n",
      "Epoch 00028: saving model to MobileDropout 0.h5\n",
      "Epoch 29/30\n",
      "639/639 [==============================] - 22s 35ms/step - loss: 0.1852 - acc: 0.9562 - val_loss: 1.0577 - val_acc: 0.7090\n",
      "\n",
      "Epoch 00029: saving model to MobileDropout 0.h5\n",
      "Epoch 30/30\n",
      "639/639 [==============================] - 23s 35ms/step - loss: 0.2515 - acc: 0.9405 - val_loss: 0.9315 - val_acc: 0.7143\n",
      "\n",
      "Epoch 00030: saving model to MobileDropout 0.h5\n"
     ]
    },
    {
     "data": {
      "image/png": "[encoded data removed]",
      "text/plain": [
       "<Figure size 432x288 with 1 Axes>"
      ]
     },
     "metadata": {
      "needs_background": "light"
     },
     "output_type": "display_data"
    },
    {
     "data": {
      "image/png": "[encoded data removed]",
      "text/plain": [
       "<Figure size 432x288 with 1 Axes>"
      ]
     },
     "metadata": {
      "needs_background": "light"
     },
     "output_type": "display_data"
    }
   ],
   "source": [
    "numero_epocas = 30\n",
    "\n",
    "history = model.fit_generator(train_batch, steps_per_epoch=len(train_batch), callbacks=callbacks_list, validation_data= val_batch, \n",
    "                              validation_steps = val_batch.samples/val_batch.batch_size, epochs=numero_epocas, verbose = 1)\n",
    "\n",
    "\n",
    "plot_training(history)"
   ]
  },
  {
   "cell_type": "code",
   "execution_count": null,
   "metadata": {},
   "outputs": [],
   "source": []
  },
  {
   "cell_type": "code",
   "execution_count": null,
   "metadata": {},
   "outputs": [],
   "source": []
  }
 ],
 "metadata": {
  "kernelspec": {
   "display_name": "Python 3",
   "language": "python",
   "name": "python3"
  },
  "language_info": {
   "codemirror_mode": {
    "name": "ipython",
    "version": 3
   },
   "file_extension": ".py",
   "mimetype": "text/x-python",
   "name": "python",
   "nbconvert_exporter": "python",
   "pygments_lexer": "ipython3",
   "version": "3.7.3"
  }
 },
 "nbformat": 4,
 "nbformat_minor": 4
}
