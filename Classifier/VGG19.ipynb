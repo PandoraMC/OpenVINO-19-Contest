{
 "cells": [
  {
   "cell_type": "code",
   "execution_count": null,
   "metadata": {},
   "outputs": [],
   "source": [
    "import os.path\n",
    "from skimage.transform import resize\n",
    "import imageio\n",
    "import numpy as np\n",
    "from keras.utils import np_utils\n",
    "import pandas as pd\n",
    "from sklearn.utils import shuffle\n",
    "from keras import optimizers\n",
    "import cv2\n",
    "import matplotlib.pyplot as plt\n",
    "from keras.preprocessing.image import ImageDataGenerator, array_to_img, img_to_array, load_img"
   ]
  },
  {
   "cell_type": "code",
   "execution_count": null,
   "metadata": {},
   "outputs": [],
   "source": [
    "def decompose_line(line):\n",
    "    decompose = line.split('|')\n",
    "    tokens = []\n",
    "    for str in decompose:\n",
    "        if len(str) > 1:\n",
    "            tokens.append(str.strip())\n",
    "    return tokens\n",
    "\n",
    "# Create object to transform data\n",
    "data_generator = ImageDataGenerator(rotation_range=90,\n",
    "                                    width_shift_range=0.1,\n",
    "                                    height_shift_range=0.1,\n",
    "                                    shear_range=0.1,\n",
    "                                    zoom_range=0.1,\n",
    "                                    horizontal_flip=True,\n",
    "                                    fill_mode='nearest',\n",
    "                                    brightness_range=[0.75, 1],\n",
    "                                    channel_shift_range = 0.25)\n",
    "\n",
    "def getTransform(Image):\n",
    "    Image = Image.reshape((1,) + Image.shape)  \n",
    "    # Apply transformation\n",
    "    for batch in data_generator.flow(Image):\n",
    "        return batch[0]"
   ]
  },
  {
   "cell_type": "code",
   "execution_count": null,
   "metadata": {},
   "outputs": [],
   "source": [
    "data_dir = 'D:\\OpenVINO\\PH2Dataset'\n",
    "im_size = (50, 75, 3)\n",
    "\n",
    "diagnosis_file = open(os.path.join(data_dir, 'PH2_dataset.txt'), 'r')\n",
    "header = decompose_line(diagnosis_file.readline())\n",
    "t = []\n",
    "for line in diagnosis_file:\n",
    "    if \"||\" in line:\n",
    "        t.append(decompose_line(line))        \n",
    "diagnosis_file.close()\n",
    "df_dataset = pd.DataFrame(t, columns = header)\n",
    "\n",
    "generator = 10\n",
    "samples = len(df_dataset['Name'])\n",
    "X = np.ndarray(shape=(samples*generator, im_size[0], im_size[1], im_size[2]))\n",
    "y = np.ndarray(samples*generator, )\n",
    "names = []\n",
    "\n",
    "i = 0\n",
    "for index in np.random.permutation(samples):\n",
    "    im_file = df_dataset['Name'][index]\n",
    "    file_path = os.path.join(data_dir, 'PH2 Dataset images', im_file, im_file + '_Dermoscopic_Image', im_file + '.bmp')\n",
    "    image = imageio.imread(file_path)\n",
    "    image = resize(image, im_size, mode='constant', anti_aliasing=False)\n",
    "    for j in range(0, generator):\n",
    "        X[i] = getTransform(image)\n",
    "        y[i] = df_dataset['Clinical Diagnosis'][index]\n",
    "        names.append(df_dataset['Name'][index])\n",
    "        i = i + 1"
   ]
  },
  {
   "cell_type": "code",
   "execution_count": null,
   "metadata": {},
   "outputs": [],
   "source": [
    "samples = X.shape[0]\n",
    "to_train = int(0.75*samples)\n",
    "x_train = X[:to_train]\n",
    "x_test = X[to_train:]\n",
    "\n",
    "y_train = y[:to_train]\n",
    "y_test = y[to_train:]\n",
    "names_test = names[to_train:]\n",
    "\n",
    "y_train = np_utils.to_categorical(y_train)\n",
    "y_test = np_utils.to_categorical(y_test)\n",
    "\n",
    "num_classes = y_train.shape[1]\n",
    "\n",
    "print('Number of classes: ' + str(num_classes))\n",
    "print('Number of training samples: ' + str(to_train))\n",
    "print('Number of test samples:', x_test.shape[0])"
   ]
  },
  {
   "cell_type": "code",
   "execution_count": null,
   "metadata": {},
   "outputs": [],
   "source": [
    "from matplotlib.pyplot import imshow\n",
    "test = np.random.randint(x_test.shape[0])\n",
    "imshow(x_test[test])\n",
    "plt.title(names_test[test] + ' diagnosis: ' + str(y_test[test][1]))"
   ]
  },
  {
   "cell_type": "code",
   "execution_count": null,
   "metadata": {},
   "outputs": [],
   "source": [
    "from keras import Sequential\n",
    "from keras.layers import Dense, Dropout, Flatten\n",
    "from keras.layers import Conv2D, MaxPooling2D, ZeroPadding2D\n",
    "from keras import backend as K\n",
    "from keras.optimizers import SGD, RMSprop, Adam\n",
    "from keras.utils.vis_utils import plot_model\n",
    "import matplotlib.image as mpimg\n",
    "\n",
    "def VGG19():\n",
    "\n",
    "    model = Sequential()\n",
    "\n",
    "    model.add(Conv2D(64, kernel_size = (3, 3), activation = 'relu', input_shape = im_size, padding = 'same'))\n",
    "    model.add(Conv2D(64, (3, 3), activation = 'relu', padding = 'same'))\n",
    "    model.add(MaxPooling2D(pool_size = (2, 2)))\n",
    "\n",
    "    model.add(Conv2D(128, (3, 3), activation = 'relu', padding = 'same'))\n",
    "    model.add(Conv2D(128, (3, 3), activation = 'relu', padding = 'same'))\n",
    "    model.add(MaxPooling2D(pool_size = (2, 2)))\n",
    "    \n",
    "    model.add(Conv2D(256, (3, 3), activation = 'relu', padding = 'same'))\n",
    "    model.add(Conv2D(256, (3, 3), activation = 'relu', padding = 'same'))\n",
    "    model.add(Conv2D(256, (3, 3), activation = 'relu', padding = 'same'))\n",
    "    #model.add(Conv2D(256, (3, 3), activation = 'relu', padding = 'same'))\n",
    "    model.add(MaxPooling2D(pool_size = (2, 2)))\n",
    "\n",
    "    model.add(Conv2D(512, (3, 3), activation = 'relu', padding = 'same'))\n",
    "    model.add(Conv2D(512, (3, 3), activation = 'relu', padding = 'same'))\n",
    "    model.add(Conv2D(512, (3, 3), activation = 'relu', padding = 'same'))\n",
    "    #model.add(Conv2D(512, (3, 3), activation = 'relu', padding = 'same'))\n",
    "    model.add(MaxPooling2D(pool_size = (2, 2)))\n",
    "\n",
    "    model.add(Conv2D(512, (3, 3), activation = 'relu', padding = 'same'))\n",
    "    model.add(Conv2D(512, (3, 3), activation = 'relu', padding = 'same'))\n",
    "    model.add(Conv2D(512, (3, 3), activation = 'relu', padding = 'same'))\n",
    "    #model.add(Conv2D(512, (3, 3), activation = 'relu', padding = 'same'))\n",
    "\n",
    "    model.add(Flatten())\n",
    "    model.add(Dense(4096, activation = 'relu'))\n",
    "    model.add(Dense(4096, activation = 'relu'))\n",
    "    model.add(Dense(1000, activation = 'relu'))\n",
    "    model.add(Dense(num_classes, activation = 'softmax'))\n",
    "    \n",
    "    return model"
   ]
  },
  {
   "cell_type": "code",
   "execution_count": null,
   "metadata": {},
   "outputs": [],
   "source": [
    "adam = optimizers.Adam(lr = 0.09, beta_1 = 0.9, beta_2 = 0.999, epsilon = 1e-08, decay = 0.0)\n",
    "\n",
    "model = VGG19()\n",
    "model.compile(loss = 'categorical_crossentropy', optimizer = Adam(0.01), metrics = ['accuracy'])\n",
    "\n",
    "print(model.summary())\n",
    "plot_model(model, to_file = 'D:\\OpenVINO\\cellsVGG.png', show_shapes = True, show_layer_names = True)\n",
    "#img = mpimg.imread('D:\\OpenVINO\\cellsVGG.png')\n",
    "#plt.figure(figsize = (30, 60))\n",
    "#imgplot = plt.imshow(img)"
   ]
  },
  {
   "cell_type": "code",
   "execution_count": null,
   "metadata": {},
   "outputs": [],
   "source": [
    "batch_size = 20\n",
    "epochs = 2\n",
    "history = model.fit(x_train, y_train, batch_size = batch_size, epochs = epochs, verbose = 1, validation_data = (x_test, y_test))\n",
    "\n",
    "score = model.evaluate(x_test, y_test, verbose = 0)\n",
    "print('Test loss:', score[0])\n",
    "print('Test accuracy:', score[1]) "
   ]
  },
  {
   "cell_type": "code",
   "execution_count": null,
   "metadata": {},
   "outputs": [],
   "source": [
    "import matplotlib.pyplot as plt\n",
    "history_dict = history.history\n",
    "\n",
    "loss_values = history_dict['loss']\n",
    "val_loss_values = history_dict['val_loss']\n",
    "epochs = range(1, len(loss_values) + 1)\n",
    "\n",
    "line1 = plt.plot(epochs, val_loss_values, label = 'Validation/Test Loss')\n",
    "line2 = plt.plot(epochs, loss_values, label = 'Training Loss')\n",
    "plt.setp(line1, linewidth = 2.0, marker = '+', markersize = 10.0)\n",
    "plt.setp(line2, linewidth = 2.0, marker = '4', markersize = 10.0)\n",
    "plt.xlabel('Epochs')\n",
    "plt.ylabel('Loss')\n",
    "plt.grid(True)\n",
    "plt.legend()\n",
    "plt.show()"
   ]
  },
  {
   "cell_type": "code",
   "execution_count": null,
   "metadata": {},
   "outputs": [],
   "source": [
    "history_dict = history.history\n",
    "\n",
    "loss_values = history_dict['acc']\n",
    "val_loss_values = history_dict['val_acc']\n",
    "epochs = range(1, len(loss_values) + 1)\n",
    "\n",
    "line1 = plt.plot(epochs, val_loss_values, label = 'Validation/Test Accuracy')\n",
    "line2 = plt.plot(epochs, loss_values, label = 'Training Loss')\n",
    "plt.setp(line1, linewidth = 2.0, marker = '+', markersize = 10.0)\n",
    "plt.setp(line2, linewidth = 2.0, marker = '4', markersize = 10.0)\n",
    "plt.xlabel('Epochs')\n",
    "plt.ylabel('Accuracy')\n",
    "plt.grid(True)\n",
    "plt.legend()\n",
    "plt.show()"
   ]
  },
  {
   "cell_type": "code",
   "execution_count": null,
   "metadata": {},
   "outputs": [],
   "source": [
    "model.save('D:\\OpenVINO\\cellsvgg.h5')"
   ]
  },
  {
   "cell_type": "code",
   "execution_count": null,
   "metadata": {},
   "outputs": [],
   "source": [
    "from keras.models import load_model\n",
    "\n",
    "classifier = load_model('D:\\OpenVINO\\cellsvgg.h5')"
   ]
  },
  {
   "cell_type": "code",
   "execution_count": null,
   "metadata": {},
   "outputs": [],
   "source": [
    "rand = np.random.randint(0, samples)\n",
    "input_im = X[rand]\n",
    "imshow((input_im).astype('uint8'))\n",
    "input_im = input_im.reshape(1, im_size[0], im_size[1], im_size[2])\n",
    "res = str(model.predict_classes(input_im, 1, verbose = 0)[0])\n",
    "\n",
    "y_test_labels = y[to_train:]\n",
    "\n",
    "plt.title(names[rand] + '. Predicted: ' + (res) + ' Real: ' + str(int(y[rand])))"
   ]
  },
  {
   "cell_type": "code",
   "execution_count": null,
   "metadata": {},
   "outputs": [],
   "source": [
    "for i in np.random.permutation(samples)[:10]:\n",
    "    input_im = X[i]\n",
    "    input_im = input_im.reshape(1, im_size[0], im_size[1], im_size[2])\n",
    "    res = str(model.predict_classes(input_im, 1, verbose = 0)[0])\n",
    "    print(names[i], \"predicted:\", res, \"real:\", int(y[i]))"
   ]
  },
  {
   "cell_type": "code",
   "execution_count": null,
   "metadata": {},
   "outputs": [],
   "source": [
    "\n",
    "\n"
   ]
  },
  {
   "cell_type": "code",
   "execution_count": null,
   "metadata": {},
   "outputs": [],
   "source": [
    "x_test[0].shape"
   ]
  }
 ],
 "metadata": {
  "kernelspec": {
   "display_name": "Python 3",
   "language": "python",
   "name": "python3"
  },
  "language_info": {
   "codemirror_mode": {
    "name": "ipython",
    "version": 3
   },
   "file_extension": ".py",
   "mimetype": "text/x-python",
   "name": "python",
   "nbconvert_exporter": "python",
   "pygments_lexer": "ipython3",
   "version": "3.6.6"
  }
 },
 "nbformat": 4,
 "nbformat_minor": 2
}
