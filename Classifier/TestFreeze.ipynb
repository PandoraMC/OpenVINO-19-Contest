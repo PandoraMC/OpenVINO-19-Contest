{
 "cells": [
  {
   "cell_type": "code",
   "execution_count": null,
   "metadata": {},
   "outputs": [],
   "source": [
    "from __future__ import absolute_import, division, print_function, unicode_literals\n",
    "\n",
    "import tensorflow as tf\n",
    "from tensorflow.python.platform import gfile\n",
    "from imageio import imread\n",
    "from skimage.transform import resize\n",
    "import numpy as np\n",
    "import matplotlib.pyplot as plt\n",
    "from IPython.display import clear_output, Image, display, HTML\n",
    "\n",
    "# This module defines the show_graph() function to visualize a TensorFlow graph within Jupyter.\n",
    "\n",
    "# As far as I can tell, this code was originally written by Alex Mordvintsev at:\n",
    "# https://github.com/tensorflow/tensorflow/blob/master/tensorflow/examples/tutorials/deepdream/deepdream.ipynb\n",
    "\n",
    "# The original code only worked on Chrome (because of the use of <link rel=\"import\"...>, but the version below\n",
    "# uses Polyfill (copied from this StackOverflow answer: https://stackoverflow.com/a/41463991/38626)\n",
    "# so that it can work on other browsers as well.\n",
    "\n",
    "def strip_consts(graph_def, max_const_size=32):\n",
    "    \"\"\"Strip large constant values from graph_def.\"\"\"\n",
    "    strip_def = tf.GraphDef()\n",
    "    for n0 in graph_def.node:\n",
    "        n = strip_def.node.add() \n",
    "        n.MergeFrom(n0)\n",
    "        if n.op == 'Const':\n",
    "            tensor = n.attr['value'].tensor\n",
    "            size = len(tensor.tensor_content)\n",
    "            if size > max_const_size:\n",
    "                tensor.tensor_content = b\"<stripped %d bytes>\"%size\n",
    "    return strip_def\n",
    "\n",
    "def show_graph(graph_def, max_const_size=32):\n",
    "    \"\"\"Visualize TensorFlow graph.\"\"\"\n",
    "    if hasattr(graph_def, 'as_graph_def'):\n",
    "        graph_def = graph_def.as_graph_def()\n",
    "    strip_def = strip_consts(graph_def, max_const_size=max_const_size)\n",
    "    code = \"\"\"\n",
    "        <script src=\"//cdnjs.cloudflare.com/ajax/libs/polymer/0.3.3/platform.js\"></script>\n",
    "        <script>\n",
    "          function load() {{\n",
    "            document.getElementById(\"{id}\").pbtxt = {data};\n",
    "          }}\n",
    "        </script>\n",
    "        <link rel=\"import\" href=\"https://tensorboard.appspot.com/tf-graph-basic.build.html\" onload=load()>\n",
    "        <div style=\"height:600px\">\n",
    "          <tf-graph-basic id=\"{id}\"></tf-graph-basic>\n",
    "        </div>\n",
    "    \"\"\".format(data=repr(str(strip_def)), id='graph'+str(np.random.rand()))\n",
    "\n",
    "    iframe = \"\"\"\n",
    "        <iframe seamless style=\"width:1200px;height:620px;border:0\" srcdoc=\"{}\"></iframe>\n",
    "    \"\"\".format(code.replace('\"', '&quot;'))\n",
    "    display(HTML(iframe))"
   ]
  },
  {
   "cell_type": "code",
   "execution_count": null,
   "metadata": {},
   "outputs": [],
   "source": [
    "sess = tf.InteractiveSession()\n",
    "f = gfile.FastGFile(\"/media/anubis/Data/OpenVINO/UnetFull/LAST/Class_100E_160x320D.pb\", 'rb')\n",
    "graph_def = tf.GraphDef()\n",
    "# Parses a serialized binary message into the current message.\n",
    "graph_def.ParseFromString(f.read())\n",
    "f.close()"
   ]
  },
  {
   "cell_type": "code",
   "execution_count": null,
   "metadata": {},
   "outputs": [],
   "source": [
    "sess.graph.as_default()\n",
    "# Import a serialized TensorFlow `GraphDef` protocol buffer\n",
    "# and place into the current default `Graph`.\n",
    "tf.import_graph_def(graph_def)\n",
    "show_graph(tf.get_default_graph().as_graph_def())"
   ]
  },
  {
   "cell_type": "code",
   "execution_count": null,
   "metadata": {},
   "outputs": [],
   "source": [
    "output_tensor = sess.graph.get_tensor_by_name('import/dense_3/Softmax:0')\n",
    "input_tensor = sess.graph.get_tensor_by_name('import/input_1:0')\n",
    "model_image_size = (input_tensor.shape.dims[1].value, input_tensor.shape.dims[2].value)"
   ]
  },
  {
   "cell_type": "markdown",
   "metadata": {},
   "source": [
    "I = imread('/media/anubis/Data/OpenVINO/Datasets/PH2/validation/images/IMD256.bmp')\n",
    "input_image_size = (I.shape[0], I.shape[1])\n",
    "image = resize(I, model_image_size, mode='constant', anti_aliasing=False)\n",
    "image = np.expand_dims(image, axis = 0)\n",
    "prediction = sess.run(output_tensor, {input_tensor: image})\n",
    "print(prediction)\n",
    "\n",
    "plt.imshow(I, interpolation='none')\n",
    "plt.tick_params(axis='both',which='both',bottom=False,left=False,labelbottom=False,labelleft=False)\n",
    "plt.title('IMD256' + ' Predicted')\n",
    "plt.show()"
   ]
  },
  {
   "cell_type": "code",
   "execution_count": null,
   "metadata": {},
   "outputs": [],
   "source": [
    "from numpy.random import randint\n",
    "from os.path import join as pJoin\n",
    "from os import listdir\n",
    "from matplotlib.pyplot import imshow, tick_params, title\n",
    "\n",
    "DATA_DIR = '/media/anubis/Data/OpenVINO/Classification'\n",
    "img_class = randint(0, 3)\n",
    "img_dir = pJoin(DATA_DIR, str(img_class))\n",
    "img_names = listdir(img_dir)\n",
    "file_name = img_names[randint(0, len(img_names))]\n",
    "\n",
    "image_file1 = pJoin(img_dir, file_name)\n",
    "\n",
    "img_original = imread(image_file1)\n",
    "img = resize(img_original, model_image_size, mode = 'constant')\n",
    "\n",
    "img1 = np.expand_dims(img, axis=0)\n",
    "img1.shape\n",
    "\n",
    "response = sess.run(output_tensor, {input_tensor: img1})\n",
    "print(response)\n",
    "\n",
    "imshow(img)\n",
    "tick_params(axis='both',which='both',bottom=False,left=False,labelbottom=False,labelleft=False)\n",
    "title(file_name.split('.')[0] + '. Class: ' + str(img_class) + ' Diagnosis: ' + str(response.argmax()))"
   ]
  },
  {
   "cell_type": "markdown",
   "metadata": {},
   "source": [
    "## Optimize the model for OpenVINO platform\n",
    "run the next in your openVINO environment\n",
    "\n",
    "python3 /opt/intel/2019_r1/openvino/deployment_tools/model_optimizer/mo_tf.py --input_model Class_100E_160x320D.pb --input_shape [1,160,320,3] --reverse_input_channels --scale_values [255,255,255]"
   ]
  }
 ],
 "metadata": {
  "kernelspec": {
   "display_name": "Python 3",
   "language": "python",
   "name": "python3"
  },
  "language_info": {
   "codemirror_mode": {
    "name": "ipython",
    "version": 3
   },
   "file_extension": ".py",
   "mimetype": "text/x-python",
   "name": "python",
   "nbconvert_exporter": "python",
   "pygments_lexer": "ipython3",
   "version": "3.6.9"
  }
 },
 "nbformat": 4,
 "nbformat_minor": 4
}
