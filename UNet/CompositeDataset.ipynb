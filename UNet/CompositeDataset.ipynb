{
 "cells": [
  {
   "cell_type": "code",
   "execution_count": 1,
   "metadata": {},
   "outputs": [
    {
     "name": "stdout",
     "output_type": "stream",
     "text": [
      "Directory  D:\\OpenVINO\\PH2  Created \n",
      "200 images available\n",
      "200 images available. 180 for training and 20 for test\n"
     ]
    }
   ],
   "source": [
    "import os\n",
    "import shutil\n",
    "import random as rnd\n",
    "import math\n",
    "\n",
    "DatasetDir = \"D:\\OpenVINO\\PH2Dataset\\PH2 Dataset images\"\n",
    "BaseDir = \"D:\\OpenVINO\\PH2\"\n",
    "FormatFile = \".bmp\"\n",
    "ImageNames = os.listdir(DatasetDir)\n",
    "\n",
    "try:\n",
    "    os.mkdir(BaseDir)\n",
    "    print(\"Directory \" , BaseDir ,  \" Created \")\n",
    "    ImageDir = os.path.join(BaseDir, 'images')\n",
    "    LabelDir = os.path.join(BaseDir, 'labels')\n",
    "    os.mkdir(ImageDir)\n",
    "    os.mkdir(LabelDir)\n",
    "    print(len(ImageNames), \"images available\")\n",
    "    for Image in ImageNames:\n",
    "        ImageSrcFile = os.path.join(DatasetDir, Image, Image + \"_Dermoscopic_Image\", Image + FormatFile)\n",
    "        ImageDstFile = os.path.join(ImageDir, Image + FormatFile)\n",
    "        LabelSrcFile = os.path.join(DatasetDir, Image, Image + \"_lesion\", Image + \"_lesion\" + FormatFile)\n",
    "        LabelDstFile = os.path.join(LabelDir, Image + FormatFile)\n",
    "        shutil.copyfile(ImageSrcFile, ImageDstFile)\n",
    "        shutil.copyfile(LabelSrcFile, LabelDstFile)\n",
    "except FileExistsError:\n",
    "    print(\"Directory \" , BaseDir ,  \" already exists\")\n",
    "    print(\"Verify the name of the directory, a dataset alredy exist.\")\n",
    "    \n",
    "DatasetDir = \"D:\\OpenVINO\\PH2Dataset\\PH2 Dataset images\"\n",
    "BaseDir = \"D:\\OpenVINO\\PH2\"\n",
    "FormatFile = \".bmp\"\n",
    "ImageNames = os.listdir(DatasetDir)\n",
    "ImageCount = len(ImageNames)\n",
    "rnd.shuffle(ImageNames)\n",
    "RatioCut = 0.9\n",
    "TrainImages = ImageNames[1: math.floor(ImageCount*RatioCut) + 1]\n",
    "ValImages = ImageNames[math.floor(ImageCount*RatioCut): ImageCount]\n",
    "print(ImageCount, 'images available.',len(TrainImages),\"for training and\", len(ValImages),'for test')\n",
    "    \n",
    "TrainDir = os.path.join(BaseDir, 'training')\n",
    "os.mkdir(TrainDir)\n",
    "os.mkdir(os.path.join(TrainDir, 'images'))\n",
    "os.mkdir(os.path.join(TrainDir, 'labels'))\n",
    "for Image in TrainImages:\n",
    "    ImageSrcFile = os.path.join(DatasetDir, Image, Image + \"_Dermoscopic_Image\", Image + FormatFile)\n",
    "    ImageDstFile = os.path.join(TrainDir, 'images', Image + FormatFile)\n",
    "    LabelSrcFile = os.path.join(DatasetDir, Image, Image + \"_lesion\", Image + \"_lesion\" + FormatFile)\n",
    "    LabelDstFile = os.path.join(TrainDir, 'labels', Image + FormatFile)\n",
    "    shutil.copyfile(ImageSrcFile, ImageDstFile)\n",
    "    shutil.copyfile(LabelSrcFile, LabelDstFile)\n",
    "\n",
    "ValDir = os.path.join(BaseDir, 'validation')\n",
    "os.mkdir(ValDir)\n",
    "os.mkdir(os.path.join(ValDir, 'images'))\n",
    "os.mkdir(os.path.join(ValDir, 'labels'))\n",
    "for Image in ValImages:\n",
    "    ImageSrcFile = os.path.join(DatasetDir, Image, Image + \"_Dermoscopic_Image\", Image + FormatFile)\n",
    "    ImageDstFile = os.path.join(ValDir, 'images', Image + FormatFile)\n",
    "    LabelSrcFile = os.path.join(DatasetDir, Image, Image + \"_lesion\", Image + \"_lesion\" + FormatFile)\n",
    "    LabelDstFile = os.path.join(ValDir, 'labels', Image + FormatFile)\n",
    "    shutil.copyfile(ImageSrcFile, ImageDstFile)\n",
    "    shutil.copyfile(LabelSrcFile, LabelDstFile)"
   ]
  }
 ],
 "metadata": {
  "kernelspec": {
   "display_name": "Python 3",
   "language": "python",
   "name": "python3"
  },
  "language_info": {
   "codemirror_mode": {
    "name": "ipython",
    "version": 3
   },
   "file_extension": ".py",
   "mimetype": "text/x-python",
   "name": "python",
   "nbconvert_exporter": "python",
   "pygments_lexer": "ipython3",
   "version": "3.6.6"
  }
 },
 "nbformat": 4,
 "nbformat_minor": 2
}
